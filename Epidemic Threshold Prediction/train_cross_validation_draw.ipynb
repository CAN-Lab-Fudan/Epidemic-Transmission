{
 "cells": [
  {
   "cell_type": "code",
   "execution_count": 1,
   "metadata": {},
   "outputs": [
    {
     "name": "stderr",
     "output_type": "stream",
     "text": [
      "usage: ipykernel_launcher.py [-h] [--file_path FILE_PATH]\n",
      "                             [--group-name GROUP_NAME] [--N N] [--k K]\n",
      "                             [--lambda_range LAMBDA_RANGE]\n",
      "                             [--lambda_numbers LAMBDA_NUMBERS]\n",
      "                             [--batch_size BATCH_SIZE]\n",
      "                             [--in_features IN_FEATURES]\n",
      "                             [--f_in_hidden F_IN_HIDDEN] [--f_att_in F_ATT_IN]\n",
      "                             [--f_att_hidden F_ATT_HIDDEN]\n",
      "                             [--f_out_in F_OUT_IN]\n",
      "                             [--f_out_hidden F_OUT_HIDDEN]\n",
      "                             [--out_features OUT_FEATURES] [--epochs EPOCHS]\n",
      "                             [--lr LR] [--check_point CHECK_POINT]\n",
      "                             [--model_path MODEL_PATH]\n",
      "                             [--results-path RESULTS_PATH]\n",
      "ipykernel_launcher.py: error: ambiguous option: --f=/root/.local/share/jupyter/runtime/kernel-v2-3397012LLqayjD11rrR.json could match --file_path, --f_in_hidden, --f_att_in, --f_att_hidden, --f_out_in, --f_out_hidden\n"
     ]
    },
    {
     "ename": "SystemExit",
     "evalue": "2",
     "output_type": "error",
     "traceback": [
      "An exception has occurred, use %tb to see the full traceback.\n",
      "\u001b[0;31mSystemExit\u001b[0m\u001b[0;31m:\u001b[0m 2\n"
     ]
    },
    {
     "name": "stderr",
     "output_type": "stream",
     "text": [
      "/root/miniconda3/envs/Wu/lib/python3.11/site-packages/IPython/core/interactiveshell.py:3561: UserWarning: To exit: use 'exit', 'quit', or Ctrl-D.\n",
      "  warn(\"To exit: use 'exit', 'quit', or Ctrl-D.\", stacklevel=1)\n"
     ]
    }
   ],
   "source": [
    "import h5py\n",
    "import networkx as nx\n",
    "import pandas as pd\n",
    "import numpy as np\n",
    "\n",
    "import os\n",
    "import os.path as osp\n",
    "from utils import threshold\n",
    "from parameters import parameter_parser\n",
    "\n",
    "import matplotlib.pyplot as plt\n",
    "import scienceplots\n",
    "\n",
    "if __name__ == \"__main__\":\n",
    "    args = parameter_parser()\n",
    "    N, avg_k = args.N, 4\n",
    "    # G = ER_Random_Graph(N=N, avg_k=avg_k)\n",
    "    group_name = f'Erdos_Renyi_Graph_N={N}'\n",
    "    # group_name = f'Erdos_Renyi_Graph_N={N}_avg_k={avg_k}'\n",
    "    # 读取所有的数据，将其放在一个名为all_data的array中，其中第0行表示对应的有效传播率lambda。\n",
    "    with h5py.File(args.file_path + '.hdf5', 'r') as f:\n",
    "        cur_group = f[group_name]\n",
    "        adj = np.array(cur_group['adj'])\n",
    "\n",
    "        all_data = cur_group['data']\n",
    "        all_data = np.array(all_data[:, :])\n",
    "        f.close()\n",
    "\n",
    "    G = nx.from_numpy_array(A=adj)\n",
    "    threshold_QMF, threshold_HMF = threshold(G=G)\n",
    "    df = pd.DataFrame(index=all_data[:, 0], data=all_data[:, 1:-1])\n",
    "\n",
    "    all_idx = set(df.index.values)\n",
    "    mean = {}\n",
    "    for idx in all_idx:\n",
    "        cur_data = df.loc[idx].values\n",
    "        data_mean = np.mean(np.sum(cur_data, axis=-1))\n",
    "        mean[idx] = data_mean\n",
    "    df_mean = pd.Series(data=mean).sort_index()\n",
    "\n",
    "    # 对数据集进行k折交叉验证并使用保存最后的模型，模型保存的路径为 ./cross_validation/model_{idx}.pt\n",
    "    model_folder = \"./cross_validation\"\n",
    "    os.makedirs(model_folder, exist_ok=True)\n",
    "\n",
    "    idx = 10\n",
    "    lambda_pre = [0.096363634, 0.105959594, 0.10020202, 0.10787879, 0.11747475, 0.12323232, 0.10979798, 0.11939394, 0.10404041, 0.115555555]\n",
    "    np.savetxt(fname=osp.join(model_folder, \"thresholds.txt\"), X=np.array(lambda_pre))\n",
    "    # 作图，展示结果的变化\n",
    "    mse = np.mean((np.array(lambda_pre) - threshold_HMF)**2)\n",
    "    with plt.style.context(['science', 'ieee']):\n",
    "        figure = plt.figure()\n",
    "        # plt.title(r'The Fluctuation on ER Graph with (N={},$\\bar k$={})'.format(args.N, avg_k))\n",
    "        plt.plot(np.arange(idx)+1, lambda_pre, ls=\":\", marker='o', color='blue', label=r'$\\lambda_c^\\prime$')\n",
    "        # plt.plot(x, avg_sqs, ls=':', color='green', label=r'$\\lambda_c^{SQS}$')\n",
    "        plt.axhline(y=threshold_HMF, ls='--', color='black', label=r'$\\lambda_c^{HMF}$')\n",
    "        plt.axhline(y=threshold_QMF, ls='-.', color='red', label=r'$\\lambda_c^{QMF}$')\n",
    "\n",
    "        plt.xlabel(r'$k$')\n",
    "        plt.ylabel(r'$\\lambda$')\n",
    "        plt.ylim((0.05, 0.2))\n",
    "        plt.text(0.05, 0.95, \"MSE={:.2f}\".format(mse), horizontalalignment='center', verticalalignment='center', transform=plt.gca().transAxes)\n",
    "        plt.legend()\n",
    "        plt.savefig(osp.join(model_folder, \"threshold.pdf\"))\n",
    "        plt.show()\n",
    "        plt.close()"
   ]
  }
 ],
 "metadata": {
  "kernelspec": {
   "display_name": "Wu",
   "language": "python",
   "name": "python3"
  },
  "language_info": {
   "codemirror_mode": {
    "name": "ipython",
    "version": 3
   },
   "file_extension": ".py",
   "mimetype": "text/x-python",
   "name": "python",
   "nbconvert_exporter": "python",
   "pygments_lexer": "ipython3",
   "version": "3.11.5"
  }
 },
 "nbformat": 4,
 "nbformat_minor": 2
}
